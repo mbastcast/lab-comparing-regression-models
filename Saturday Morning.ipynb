{
 "cells": [
  {
   "cell_type": "code",
   "execution_count": 1,
   "id": "df18d793-1cfd-44e7-bde6-ff06ae73e4a7",
   "metadata": {},
   "outputs": [],
   "source": [
    "import pandas as pd\n",
    "import numpy as np\n",
    "import datetime\n",
    "import warnings\n",
    "warnings.filterwarnings('ignore')\n",
    "warnings.filterwarnings(\"ignore\", message=\"numpy.ufunc size changed\")\n",
    "import matplotlib.pyplot as plt\n",
    "import seaborn as sns\n",
    "%matplotlib inline\n",
    "pd.set_option('display.max_columns', None)\n",
    "import re"
   ]
  },
  {
   "cell_type": "code",
   "execution_count": 4,
   "id": "89224b24-9836-4a8b-b307-aa4b1d722a50",
   "metadata": {},
   "outputs": [],
   "source": [
    "data = pd.read_csv('out(1).csv') "
   ]
  },
  {
   "cell_type": "code",
   "execution_count": 5,
   "id": "7c51309f-0185-4758-87fe-33d2e713f62e",
   "metadata": {},
   "outputs": [
    {
     "data": {
      "text/html": [
       "<div>\n",
       "<style scoped>\n",
       "    .dataframe tbody tr th:only-of-type {\n",
       "        vertical-align: middle;\n",
       "    }\n",
       "\n",
       "    .dataframe tbody tr th {\n",
       "        vertical-align: top;\n",
       "    }\n",
       "\n",
       "    .dataframe thead th {\n",
       "        text-align: right;\n",
       "    }\n",
       "</style>\n",
       "<table border=\"1\" class=\"dataframe\">\n",
       "  <thead>\n",
       "    <tr style=\"text-align: right;\">\n",
       "      <th></th>\n",
       "      <th>Unnamed: 0</th>\n",
       "      <th>coverage</th>\n",
       "      <th>months_since_last_claim</th>\n",
       "      <th>employmentstatus</th>\n",
       "      <th>location_code</th>\n",
       "      <th>vehicle_size</th>\n",
       "      <th>number_of_policies_2</th>\n",
       "      <th>number_of_policies_3</th>\n",
       "      <th>number_of_policies_4</th>\n",
       "      <th>number_of_policies_5</th>\n",
       "      <th>number_of_policies_6</th>\n",
       "      <th>number_of_policies_7</th>\n",
       "      <th>number_of_policies_8</th>\n",
       "      <th>number_of_policies_9</th>\n",
       "      <th>number_of_open_complaints_1</th>\n",
       "      <th>number_of_open_complaints_2</th>\n",
       "      <th>number_of_open_complaints_3</th>\n",
       "      <th>number_of_open_complaints_4</th>\n",
       "      <th>number_of_open_complaints_5</th>\n",
       "      <th>gender_M</th>\n",
       "      <th>education_College</th>\n",
       "      <th>education_Doctor</th>\n",
       "      <th>education_High School or Below</th>\n",
       "      <th>education_Master</th>\n",
       "      <th>response_Yes</th>\n",
       "      <th>state_California</th>\n",
       "      <th>state_Nevada</th>\n",
       "      <th>state_Oregon</th>\n",
       "      <th>state_Washington</th>\n",
       "      <th>marital_status_Married</th>\n",
       "      <th>marital_status_Single</th>\n",
       "      <th>policy_type_Personal Auto</th>\n",
       "      <th>policy_type_Special Auto</th>\n",
       "      <th>policy_Corporate L2</th>\n",
       "      <th>policy_Corporate L3</th>\n",
       "      <th>policy_Personal L1</th>\n",
       "      <th>policy_Personal L2</th>\n",
       "      <th>policy_Personal L3</th>\n",
       "      <th>policy_Special L1</th>\n",
       "      <th>policy_Special L2</th>\n",
       "      <th>policy_Special L3</th>\n",
       "      <th>renew_offer_type_Offer2</th>\n",
       "      <th>renew_offer_type_Offer3</th>\n",
       "      <th>renew_offer_type_Offer4</th>\n",
       "      <th>sales_channel_Branch</th>\n",
       "      <th>sales_channel_Call Center</th>\n",
       "      <th>sales_channel_Web</th>\n",
       "      <th>vehicle_class_Luxury Car</th>\n",
       "      <th>vehicle_class_Luxury SUV</th>\n",
       "      <th>vehicle_class_SUV</th>\n",
       "      <th>vehicle_class_Sports Car</th>\n",
       "      <th>vehicle_class_Two-Door Car</th>\n",
       "      <th>customer_lifetime_value</th>\n",
       "      <th>income</th>\n",
       "      <th>monthly_premium_auto</th>\n",
       "      <th>months_since_policy_inception</th>\n",
       "      <th>total_claim_amount</th>\n",
       "      <th>day</th>\n",
       "    </tr>\n",
       "  </thead>\n",
       "  <tbody>\n",
       "    <tr>\n",
       "      <th>0</th>\n",
       "      <td>0</td>\n",
       "      <td>0</td>\n",
       "      <td>32</td>\n",
       "      <td>1</td>\n",
       "      <td>1</td>\n",
       "      <td>1</td>\n",
       "      <td>0</td>\n",
       "      <td>0</td>\n",
       "      <td>0</td>\n",
       "      <td>0</td>\n",
       "      <td>0</td>\n",
       "      <td>0</td>\n",
       "      <td>0</td>\n",
       "      <td>0</td>\n",
       "      <td>0</td>\n",
       "      <td>0</td>\n",
       "      <td>0</td>\n",
       "      <td>0</td>\n",
       "      <td>0</td>\n",
       "      <td>0</td>\n",
       "      <td>0</td>\n",
       "      <td>0</td>\n",
       "      <td>0</td>\n",
       "      <td>0</td>\n",
       "      <td>0</td>\n",
       "      <td>0</td>\n",
       "      <td>0</td>\n",
       "      <td>0</td>\n",
       "      <td>1</td>\n",
       "      <td>1</td>\n",
       "      <td>0</td>\n",
       "      <td>0</td>\n",
       "      <td>0</td>\n",
       "      <td>0</td>\n",
       "      <td>1</td>\n",
       "      <td>0</td>\n",
       "      <td>0</td>\n",
       "      <td>0</td>\n",
       "      <td>0</td>\n",
       "      <td>0</td>\n",
       "      <td>0</td>\n",
       "      <td>0</td>\n",
       "      <td>0</td>\n",
       "      <td>0</td>\n",
       "      <td>0</td>\n",
       "      <td>0</td>\n",
       "      <td>0</td>\n",
       "      <td>0</td>\n",
       "      <td>0</td>\n",
       "      <td>0</td>\n",
       "      <td>0</td>\n",
       "      <td>1</td>\n",
       "      <td>0.059651</td>\n",
       "      <td>0.562847</td>\n",
       "      <td>0.073394</td>\n",
       "      <td>0.050505</td>\n",
       "      <td>384.811147</td>\n",
       "      <td>55</td>\n",
       "    </tr>\n",
       "    <tr>\n",
       "      <th>1</th>\n",
       "      <td>1</td>\n",
       "      <td>1</td>\n",
       "      <td>13</td>\n",
       "      <td>4</td>\n",
       "      <td>1</td>\n",
       "      <td>1</td>\n",
       "      <td>0</td>\n",
       "      <td>0</td>\n",
       "      <td>0</td>\n",
       "      <td>0</td>\n",
       "      <td>0</td>\n",
       "      <td>0</td>\n",
       "      <td>1</td>\n",
       "      <td>0</td>\n",
       "      <td>0</td>\n",
       "      <td>0</td>\n",
       "      <td>0</td>\n",
       "      <td>0</td>\n",
       "      <td>0</td>\n",
       "      <td>0</td>\n",
       "      <td>0</td>\n",
       "      <td>0</td>\n",
       "      <td>0</td>\n",
       "      <td>0</td>\n",
       "      <td>0</td>\n",
       "      <td>0</td>\n",
       "      <td>0</td>\n",
       "      <td>0</td>\n",
       "      <td>0</td>\n",
       "      <td>0</td>\n",
       "      <td>1</td>\n",
       "      <td>1</td>\n",
       "      <td>0</td>\n",
       "      <td>0</td>\n",
       "      <td>0</td>\n",
       "      <td>0</td>\n",
       "      <td>0</td>\n",
       "      <td>1</td>\n",
       "      <td>0</td>\n",
       "      <td>0</td>\n",
       "      <td>0</td>\n",
       "      <td>0</td>\n",
       "      <td>1</td>\n",
       "      <td>0</td>\n",
       "      <td>0</td>\n",
       "      <td>0</td>\n",
       "      <td>0</td>\n",
       "      <td>0</td>\n",
       "      <td>0</td>\n",
       "      <td>0</td>\n",
       "      <td>0</td>\n",
       "      <td>0</td>\n",
       "      <td>0.350217</td>\n",
       "      <td>0.000000</td>\n",
       "      <td>0.302752</td>\n",
       "      <td>0.424242</td>\n",
       "      <td>364.800000</td>\n",
       "      <td>31</td>\n",
       "    </tr>\n",
       "    <tr>\n",
       "      <th>2</th>\n",
       "      <td>2</td>\n",
       "      <td>2</td>\n",
       "      <td>18</td>\n",
       "      <td>1</td>\n",
       "      <td>1</td>\n",
       "      <td>1</td>\n",
       "      <td>1</td>\n",
       "      <td>0</td>\n",
       "      <td>0</td>\n",
       "      <td>0</td>\n",
       "      <td>0</td>\n",
       "      <td>0</td>\n",
       "      <td>0</td>\n",
       "      <td>0</td>\n",
       "      <td>0</td>\n",
       "      <td>0</td>\n",
       "      <td>0</td>\n",
       "      <td>0</td>\n",
       "      <td>0</td>\n",
       "      <td>0</td>\n",
       "      <td>0</td>\n",
       "      <td>0</td>\n",
       "      <td>0</td>\n",
       "      <td>0</td>\n",
       "      <td>0</td>\n",
       "      <td>0</td>\n",
       "      <td>1</td>\n",
       "      <td>0</td>\n",
       "      <td>0</td>\n",
       "      <td>1</td>\n",
       "      <td>0</td>\n",
       "      <td>1</td>\n",
       "      <td>0</td>\n",
       "      <td>0</td>\n",
       "      <td>0</td>\n",
       "      <td>0</td>\n",
       "      <td>0</td>\n",
       "      <td>1</td>\n",
       "      <td>0</td>\n",
       "      <td>0</td>\n",
       "      <td>0</td>\n",
       "      <td>0</td>\n",
       "      <td>0</td>\n",
       "      <td>0</td>\n",
       "      <td>0</td>\n",
       "      <td>0</td>\n",
       "      <td>0</td>\n",
       "      <td>0</td>\n",
       "      <td>0</td>\n",
       "      <td>0</td>\n",
       "      <td>0</td>\n",
       "      <td>1</td>\n",
       "      <td>0.757387</td>\n",
       "      <td>0.487763</td>\n",
       "      <td>0.431193</td>\n",
       "      <td>0.383838</td>\n",
       "      <td>566.472247</td>\n",
       "      <td>50</td>\n",
       "    </tr>\n",
       "    <tr>\n",
       "      <th>3</th>\n",
       "      <td>3</td>\n",
       "      <td>0</td>\n",
       "      <td>18</td>\n",
       "      <td>4</td>\n",
       "      <td>1</td>\n",
       "      <td>1</td>\n",
       "      <td>0</td>\n",
       "      <td>0</td>\n",
       "      <td>0</td>\n",
       "      <td>0</td>\n",
       "      <td>0</td>\n",
       "      <td>1</td>\n",
       "      <td>0</td>\n",
       "      <td>0</td>\n",
       "      <td>0</td>\n",
       "      <td>0</td>\n",
       "      <td>0</td>\n",
       "      <td>0</td>\n",
       "      <td>0</td>\n",
       "      <td>1</td>\n",
       "      <td>0</td>\n",
       "      <td>0</td>\n",
       "      <td>0</td>\n",
       "      <td>0</td>\n",
       "      <td>0</td>\n",
       "      <td>1</td>\n",
       "      <td>0</td>\n",
       "      <td>0</td>\n",
       "      <td>0</td>\n",
       "      <td>1</td>\n",
       "      <td>0</td>\n",
       "      <td>0</td>\n",
       "      <td>0</td>\n",
       "      <td>1</td>\n",
       "      <td>0</td>\n",
       "      <td>0</td>\n",
       "      <td>0</td>\n",
       "      <td>0</td>\n",
       "      <td>0</td>\n",
       "      <td>0</td>\n",
       "      <td>0</td>\n",
       "      <td>0</td>\n",
       "      <td>0</td>\n",
       "      <td>0</td>\n",
       "      <td>0</td>\n",
       "      <td>1</td>\n",
       "      <td>0</td>\n",
       "      <td>0</td>\n",
       "      <td>0</td>\n",
       "      <td>1</td>\n",
       "      <td>0</td>\n",
       "      <td>0</td>\n",
       "      <td>0.396140</td>\n",
       "      <td>0.000000</td>\n",
       "      <td>0.412844</td>\n",
       "      <td>0.656566</td>\n",
       "      <td>529.881344</td>\n",
       "      <td>20</td>\n",
       "    </tr>\n",
       "    <tr>\n",
       "      <th>4</th>\n",
       "      <td>4</td>\n",
       "      <td>0</td>\n",
       "      <td>12</td>\n",
       "      <td>1</td>\n",
       "      <td>0</td>\n",
       "      <td>1</td>\n",
       "      <td>0</td>\n",
       "      <td>0</td>\n",
       "      <td>0</td>\n",
       "      <td>0</td>\n",
       "      <td>0</td>\n",
       "      <td>0</td>\n",
       "      <td>0</td>\n",
       "      <td>0</td>\n",
       "      <td>0</td>\n",
       "      <td>0</td>\n",
       "      <td>0</td>\n",
       "      <td>0</td>\n",
       "      <td>0</td>\n",
       "      <td>1</td>\n",
       "      <td>0</td>\n",
       "      <td>0</td>\n",
       "      <td>0</td>\n",
       "      <td>0</td>\n",
       "      <td>0</td>\n",
       "      <td>0</td>\n",
       "      <td>0</td>\n",
       "      <td>0</td>\n",
       "      <td>1</td>\n",
       "      <td>0</td>\n",
       "      <td>1</td>\n",
       "      <td>1</td>\n",
       "      <td>0</td>\n",
       "      <td>0</td>\n",
       "      <td>0</td>\n",
       "      <td>1</td>\n",
       "      <td>0</td>\n",
       "      <td>0</td>\n",
       "      <td>0</td>\n",
       "      <td>0</td>\n",
       "      <td>0</td>\n",
       "      <td>0</td>\n",
       "      <td>0</td>\n",
       "      <td>0</td>\n",
       "      <td>0</td>\n",
       "      <td>0</td>\n",
       "      <td>0</td>\n",
       "      <td>0</td>\n",
       "      <td>0</td>\n",
       "      <td>0</td>\n",
       "      <td>0</td>\n",
       "      <td>0</td>\n",
       "      <td>0.063109</td>\n",
       "      <td>0.438443</td>\n",
       "      <td>0.110092</td>\n",
       "      <td>0.444444</td>\n",
       "      <td>138.130879</td>\n",
       "      <td>34</td>\n",
       "    </tr>\n",
       "  </tbody>\n",
       "</table>\n",
       "</div>"
      ],
      "text/plain": [
       "   Unnamed: 0  coverage  months_since_last_claim  employmentstatus  \\\n",
       "0           0         0                       32                 1   \n",
       "1           1         1                       13                 4   \n",
       "2           2         2                       18                 1   \n",
       "3           3         0                       18                 4   \n",
       "4           4         0                       12                 1   \n",
       "\n",
       "   location_code  vehicle_size  number_of_policies_2  number_of_policies_3  \\\n",
       "0              1             1                     0                     0   \n",
       "1              1             1                     0                     0   \n",
       "2              1             1                     1                     0   \n",
       "3              1             1                     0                     0   \n",
       "4              0             1                     0                     0   \n",
       "\n",
       "   number_of_policies_4  number_of_policies_5  number_of_policies_6  \\\n",
       "0                     0                     0                     0   \n",
       "1                     0                     0                     0   \n",
       "2                     0                     0                     0   \n",
       "3                     0                     0                     0   \n",
       "4                     0                     0                     0   \n",
       "\n",
       "   number_of_policies_7  number_of_policies_8  number_of_policies_9  \\\n",
       "0                     0                     0                     0   \n",
       "1                     0                     1                     0   \n",
       "2                     0                     0                     0   \n",
       "3                     1                     0                     0   \n",
       "4                     0                     0                     0   \n",
       "\n",
       "   number_of_open_complaints_1  number_of_open_complaints_2  \\\n",
       "0                            0                            0   \n",
       "1                            0                            0   \n",
       "2                            0                            0   \n",
       "3                            0                            0   \n",
       "4                            0                            0   \n",
       "\n",
       "   number_of_open_complaints_3  number_of_open_complaints_4  \\\n",
       "0                            0                            0   \n",
       "1                            0                            0   \n",
       "2                            0                            0   \n",
       "3                            0                            0   \n",
       "4                            0                            0   \n",
       "\n",
       "   number_of_open_complaints_5  gender_M  education_College  education_Doctor  \\\n",
       "0                            0         0                  0                 0   \n",
       "1                            0         0                  0                 0   \n",
       "2                            0         0                  0                 0   \n",
       "3                            0         1                  0                 0   \n",
       "4                            0         1                  0                 0   \n",
       "\n",
       "   education_High School or Below  education_Master  response_Yes  \\\n",
       "0                               0                 0             0   \n",
       "1                               0                 0             0   \n",
       "2                               0                 0             0   \n",
       "3                               0                 0             0   \n",
       "4                               0                 0             0   \n",
       "\n",
       "   state_California  state_Nevada  state_Oregon  state_Washington  \\\n",
       "0                 0             0             0                 1   \n",
       "1                 0             0             0                 0   \n",
       "2                 0             1             0                 0   \n",
       "3                 1             0             0                 0   \n",
       "4                 0             0             0                 1   \n",
       "\n",
       "   marital_status_Married  marital_status_Single  policy_type_Personal Auto  \\\n",
       "0                       1                      0                          0   \n",
       "1                       0                      1                          1   \n",
       "2                       1                      0                          1   \n",
       "3                       1                      0                          0   \n",
       "4                       0                      1                          1   \n",
       "\n",
       "   policy_type_Special Auto  policy_Corporate L2  policy_Corporate L3  \\\n",
       "0                         0                    0                    1   \n",
       "1                         0                    0                    0   \n",
       "2                         0                    0                    0   \n",
       "3                         0                    1                    0   \n",
       "4                         0                    0                    0   \n",
       "\n",
       "   policy_Personal L1  policy_Personal L2  policy_Personal L3  \\\n",
       "0                   0                   0                   0   \n",
       "1                   0                   0                   1   \n",
       "2                   0                   0                   1   \n",
       "3                   0                   0                   0   \n",
       "4                   1                   0                   0   \n",
       "\n",
       "   policy_Special L1  policy_Special L2  policy_Special L3  \\\n",
       "0                  0                  0                  0   \n",
       "1                  0                  0                  0   \n",
       "2                  0                  0                  0   \n",
       "3                  0                  0                  0   \n",
       "4                  0                  0                  0   \n",
       "\n",
       "   renew_offer_type_Offer2  renew_offer_type_Offer3  renew_offer_type_Offer4  \\\n",
       "0                        0                        0                        0   \n",
       "1                        0                        1                        0   \n",
       "2                        0                        0                        0   \n",
       "3                        0                        0                        0   \n",
       "4                        0                        0                        0   \n",
       "\n",
       "   sales_channel_Branch  sales_channel_Call Center  sales_channel_Web  \\\n",
       "0                     0                          0                  0   \n",
       "1                     0                          0                  0   \n",
       "2                     0                          0                  0   \n",
       "3                     0                          1                  0   \n",
       "4                     0                          0                  0   \n",
       "\n",
       "   vehicle_class_Luxury Car  vehicle_class_Luxury SUV  vehicle_class_SUV  \\\n",
       "0                         0                         0                  0   \n",
       "1                         0                         0                  0   \n",
       "2                         0                         0                  0   \n",
       "3                         0                         0                  1   \n",
       "4                         0                         0                  0   \n",
       "\n",
       "   vehicle_class_Sports Car  vehicle_class_Two-Door Car  \\\n",
       "0                         0                           1   \n",
       "1                         0                           0   \n",
       "2                         0                           1   \n",
       "3                         0                           0   \n",
       "4                         0                           0   \n",
       "\n",
       "   customer_lifetime_value    income  monthly_premium_auto  \\\n",
       "0                 0.059651  0.562847              0.073394   \n",
       "1                 0.350217  0.000000              0.302752   \n",
       "2                 0.757387  0.487763              0.431193   \n",
       "3                 0.396140  0.000000              0.412844   \n",
       "4                 0.063109  0.438443              0.110092   \n",
       "\n",
       "   months_since_policy_inception  total_claim_amount  day  \n",
       "0                       0.050505          384.811147   55  \n",
       "1                       0.424242          364.800000   31  \n",
       "2                       0.383838          566.472247   50  \n",
       "3                       0.656566          529.881344   20  \n",
       "4                       0.444444          138.130879   34  "
      ]
     },
     "execution_count": 5,
     "metadata": {},
     "output_type": "execute_result"
    }
   ],
   "source": [
    "data.head()"
   ]
  },
  {
   "cell_type": "code",
   "execution_count": null,
   "id": "6f9b38ff-f64a-4faf-b31b-b080ca344091",
   "metadata": {},
   "outputs": [],
   "source": [
    "#In this final lab, we will model our data. Import sklearn train_test_split and separate the data.\n"
   ]
  },
  {
   "cell_type": "code",
   "execution_count": null,
   "id": "6bb73d6c-ca86-4e74-917b-0dc55fc61463",
   "metadata": {},
   "outputs": [],
   "source": [
    "#Try a simple linear regression with all the data to see whether we are getting good results.\n"
   ]
  },
  {
   "cell_type": "code",
   "execution_count": 7,
   "id": "bd7e696a-e3e7-417f-99c8-23637573108e",
   "metadata": {},
   "outputs": [],
   "source": [
    "X = data.drop('total_claim_amount', axis = 1)\n",
    "y = data['total_claim_amount']"
   ]
  },
  {
   "cell_type": "code",
   "execution_count": 8,
   "id": "ccb3545b-c895-4db8-8437-4816d71cdf50",
   "metadata": {},
   "outputs": [],
   "source": [
    "from sklearn.model_selection import train_test_split\n",
    "\n",
    "X_train, X_test, y_train, y_test = train_test_split(X, y, test_size=0.3, random_state=100)"
   ]
  },
  {
   "cell_type": "code",
   "execution_count": 10,
   "id": "0dbfd567-8d59-48a2-a1af-f86f84c4ad3d",
   "metadata": {},
   "outputs": [
    {
     "data": {
      "text/plain": [
       "LinearRegression()"
      ]
     },
     "execution_count": 10,
     "metadata": {},
     "output_type": "execute_result"
    }
   ],
   "source": [
    "from sklearn.linear_model import LinearRegression\n",
    "model= LinearRegression()\n",
    "model.fit(X_train, y_train)"
   ]
  },
  {
   "cell_type": "code",
   "execution_count": 13,
   "id": "2ea2bf1e-9eaa-4df5-ad93-dd411db1c07e",
   "metadata": {},
   "outputs": [],
   "source": [
    "predictions = model.predict(X_test)"
   ]
  },
  {
   "cell_type": "code",
   "execution_count": 16,
   "id": "21ef5ed2-5482-41dc-a33c-5fcfb3a0e306",
   "metadata": {},
   "outputs": [],
   "source": [
    "from sklearn.metrics import mean_absolute_error, mean_squared_error, r2_score"
   ]
  },
  {
   "cell_type": "code",
   "execution_count": 17,
   "id": "2ce5ba31-b528-44ab-ab00-1356f8d18ab2",
   "metadata": {},
   "outputs": [],
   "source": [
    "r2=  r2_score(y_test, predictions)\n",
    "RMSE = mean_squared_error(y_test,predictions, squared=False)\n",
    "MSE =  mean_squared_error(y_test, predictions)\n",
    "MAE = mean_absolute_error(y_test,predictions)"
   ]
  },
  {
   "cell_type": "code",
   "execution_count": 18,
   "id": "a1e0dde8-43b8-4030-8e6e-eead82b63ebe",
   "metadata": {},
   "outputs": [
    {
     "name": "stdout",
     "output_type": "stream",
     "text": [
      "R2 is: 0.44175551088832554\n",
      "RMSE is: 156.86942638889568\n",
      "MSE is: 24608.016935581156\n",
      "MAE is: 122.22862849718965\n"
     ]
    }
   ],
   "source": [
    "print (\"R2 is:\",r2)\n",
    "print (\"RMSE is:\",RMSE)\n",
    "print (\"MSE is:\",MSE)\n",
    "print (\"MAE is:\",MAE)"
   ]
  },
  {
   "cell_type": "code",
   "execution_count": 19,
   "id": "04568f34-5c90-41ed-9a64-7b6a66303b20",
   "metadata": {},
   "outputs": [
    {
     "data": {
      "text/plain": [
       "<AxesSubplot:xlabel='total_claim_amount'>"
      ]
     },
     "execution_count": 19,
     "metadata": {},
     "output_type": "execute_result"
    },
    {
     "data": {
      "image/png": "[encoded data removed]",
      "text/plain": [
       "<Figure size 432x288 with 1 Axes>"
      ]
     },
     "metadata": {
      "needs_background": "light"
     },
     "output_type": "display_data"
    }
   ],
   "source": [
    "sns.scatterplot(y = predictions, x = y_test)"
   ]
  },
  {
   "cell_type": "code",
   "execution_count": null,
   "id": "2ce48c75-21ad-42c2-ae7e-e53e6eedf5bc",
   "metadata": {},
   "outputs": [],
   "source": [
    "#Great! Now define a function that takes a list of models and train (and tests) them so we can try a lot of them without repeating code."
   ]
  },
  {
   "cell_type": "code",
   "execution_count": null,
   "id": "7ff73bfc-31c1-4c56-bed2-24fc29e63a9e",
   "metadata": {},
   "outputs": [],
   "source": [
    "##model= LinearRegression()\n",
    "##model.fit(X_train, y_train)"
   ]
  },
  {
   "cell_type": "code",
   "execution_count": 36,
   "id": "7ef221c4-3cfb-440f-8869-62b0ed749948",
   "metadata": {},
   "outputs": [],
   "source": [
    "from sklearn.neighbors import KNeighborsRegressor\n"
   ]
  },
  {
   "cell_type": "code",
   "execution_count": null,
   "id": "eb1aff07-4cb2-4314-be96-f44781c9f15e",
   "metadata": {},
   "outputs": [],
   "source": [
    "#knn_model = KNeighborsRegressor(n_neighbors=4) # The keyword \"n_neighbors\" is what sets the K.\n",
    "#knn_model.fit(X_train, y_train)"
   ]
  },
  {
   "cell_type": "code",
   "execution_count": null,
   "id": "0d13c718-1d30-4ff4-90af-c01d116fe6c2",
   "metadata": {},
   "outputs": [],
   "source": [
    "for i in range(2,10): \n",
    "    model = KNeighborsRegressor(n_neighbors=i)\n",
    "    model.fit(X_train, y_train)\n",
    "    scores.append(model.score(X_test, y_test))"
   ]
  },
  {
   "cell_type": "code",
   "execution_count": 53,
   "id": "5d0b8a22-4f4d-41eb-8447-addfb451f655",
   "metadata": {},
   "outputs": [],
   "source": [
    "def test (y, X, model):\n",
    "    \n",
    "    for i in model:\n",
    "        X_train, X_test, y_train, y_test = train_test_split(X, y, test_size=0.3, random_state=100)\n",
    "        i.fit(X_train, y_train)\n",
    "        predictions = i.predict(X_test)\n",
    "        score = i.score(X_test, y_test)\n",
    "        print (i, score)"
   ]
  },
  {
   "cell_type": "code",
   "execution_count": 62,
   "id": "f3400d25-b76d-43bf-866b-796ac31466c7",
   "metadata": {},
   "outputs": [
    {
     "name": "stdout",
     "output_type": "stream",
     "text": [
      "2182    336.000000\n",
      "7823    489.600000\n",
      "1651    571.200000\n",
      "888     364.800000\n",
      "3844    907.200000\n",
      "           ...    \n",
      "8279    619.267164\n",
      "3445     49.451117\n",
      "1555    364.800000\n",
      "2067    699.615192\n",
      "768     312.000000\n",
      "Name: total_claim_amount, Length: 2284, dtype: float64 [338.8152872 173.3087074 242.8462646 ... 516.4100086 465.5461218\n",
      " 372.7372656]\n"
     ]
    }
   ],
   "source": [
    "model = KNeighborsRegressor(n_neighbors=5)\n",
    "\n",
    "model.fit(train_X, train_y)\n",
    "\n",
    "test_predictions = model.predict(test_X)\n",
    "print(test_y, test_predictions)"
   ]
  },
  {
   "cell_type": "code",
   "execution_count": null,
   "id": "a84a5a9e-3d38-45f4-b810-2ccf1e746704",
   "metadata": {},
   "outputs": [],
   "source": [
    "#You can check also the MLPRegressor for this task!\n"
   ]
  },
  {
   "cell_type": "code",
   "execution_count": 63,
   "id": "fa414257-85c9-4795-899f-225eed27310c",
   "metadata": {},
   "outputs": [],
   "source": [
    "from sklearn.neural_network import MLPRegressor\n"
   ]
  },
  {
   "cell_type": "code",
   "execution_count": 74,
   "id": "0b8a0c43-e720-435e-b176-ce285a5407e2",
   "metadata": {},
   "outputs": [],
   "source": [
    "model_mlp = MLPRegressor(random_state=1, max_iter=5000)\n"
   ]
  },
  {
   "cell_type": "code",
   "execution_count": 75,
   "id": "5cf70e57-9568-4598-8d1c-31ef727dabad",
   "metadata": {},
   "outputs": [
    {
     "data": {
      "text/plain": [
       "MLPRegressor(max_iter=5000, random_state=1)"
      ]
     },
     "execution_count": 75,
     "metadata": {},
     "output_type": "execute_result"
    }
   ],
   "source": [
    "model_mlp.fit(X_train, y_train)"
   ]
  },
  {
   "cell_type": "code",
   "execution_count": 76,
   "id": "91fe357d-6941-499b-9555-8fa9b59ece1f",
   "metadata": {},
   "outputs": [
    {
     "data": {
      "text/plain": [
       "0.3678916313268865"
      ]
     },
     "execution_count": 76,
     "metadata": {},
     "output_type": "execute_result"
    }
   ],
   "source": [
    "model_mlp.score(X,y)"
   ]
  },
  {
   "cell_type": "code",
   "execution_count": 79,
   "id": "4f992bf5-b1d8-4b14-9ff0-2f5231a7139a",
   "metadata": {},
   "outputs": [],
   "source": [
    "predictions_mlp = model_mlp.predict(X_test)"
   ]
  },
  {
   "cell_type": "code",
   "execution_count": 80,
   "id": "27c0f67c-dd32-4498-b790-3200fbc06106",
   "metadata": {},
   "outputs": [],
   "source": [
    "r2=  r2_score(y_test, predictions)\n",
    "RMSE = mean_squared_error(y_test,predictions_mlp, squared=False)\n",
    "MSE =  mean_squared_error(y_test, predictions_mlp)\n",
    "MAE = mean_absolute_error(y_test,predictions_mlp)"
   ]
  },
  {
   "cell_type": "code",
   "execution_count": 81,
   "id": "4cf1f78c-debd-4bbf-88df-a2930219c488",
   "metadata": {},
   "outputs": [
    {
     "name": "stdout",
     "output_type": "stream",
     "text": [
      "R2 is: 0.37202903247773367\n",
      "RMSE is: 166.37798841117282\n",
      "MSE is: 27681.635027748358\n",
      "MAE is: 132.75356003632373\n"
     ]
    }
   ],
   "source": [
    "print (\"R2 is:\",r2)\n",
    "print (\"RMSE is:\",RMSE)\n",
    "print (\"MSE is:\",MSE)\n",
    "print (\"MAE is:\",MAE)"
   ]
  },
  {
   "cell_type": "code",
   "execution_count": 83,
   "id": "76608ff4-bab3-454c-bb42-a9da6b2d70cd",
   "metadata": {},
   "outputs": [
    {
     "data": {
      "text/plain": [
       "<AxesSubplot:xlabel='total_claim_amount'>"
      ]
     },
     "execution_count": 83,
     "metadata": {},
     "output_type": "execute_result"
    },
    {
     "data": {
      "image/png": "[encoded data removed]",
      "text/plain": [
       "<Figure size 432x288 with 1 Axes>"
      ]
     },
     "metadata": {
      "needs_background": "light"
     },
     "output_type": "display_data"
    }
   ],
   "source": [
    "sns.scatterplot(y = predictions_mlp, x = y_test)"
   ]
  },
  {
   "cell_type": "code",
   "execution_count": null,
   "id": "12a745a7-cfa6-472f-ba57-7b872b8e2c60",
   "metadata": {},
   "outputs": [],
   "source": []
  }
 ],
 "metadata": {
  "kernelspec": {
   "display_name": "Python 3 (ipykernel)",
   "language": "python",
   "name": "python3"
  },
  "language_info": {
   "codemirror_mode": {
    "name": "ipython",
    "version": 3
   },
   "file_extension": ".py",
   "mimetype": "text/x-python",
   "name": "python",
   "nbconvert_exporter": "python",
   "pygments_lexer": "ipython3",
   "version": "3.9.7"
  }
 },
 "nbformat": 4,
 "nbformat_minor": 5
}
